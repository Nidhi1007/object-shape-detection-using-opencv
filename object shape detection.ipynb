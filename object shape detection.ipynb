{
 "cells": [
  {
   "cell_type": "code",
   "execution_count": 3,
   "id": "d4c1b93e",
   "metadata": {},
   "outputs": [
    {
     "name": "stdout",
     "output_type": "stream",
     "text": [
      "4\n"
     ]
    }
   ],
   "source": [
    "import cv2\n",
    "import numpy as np\n",
    "\n",
    "img = cv2.imread(r\"C:\\Users\\nidhi\\OneDrive\\Desktop\\Untitled.png\")\n",
    "cv2.imshow('1. original image', img)\n",
    "cv2.waitKey(0)\n",
    "\n",
    "gray_img = cv2.cvtColor(img, cv2.COLOR_BGR2GRAY)\n",
    "cv2.imshow('2. gray image', gray_img)\n",
    "cv2.waitKey(0)\n",
    "\n",
    "edges = cv2.Canny(gray_img, 50, 200)\n",
    "cv2.imshow('3. edges', edges)\n",
    "cv2.waitKey(0)\n",
    "\n",
    "contours, hierarchy = cv2.findContours(edges.copy(), cv2.RETR_EXTERNAL, cv2.CHAIN_APPROX_NONE)\n",
    "\n",
    "for cnt in contours:\n",
    "\n",
    "    approx = cv2.approxPolyDP(cnt, 0.03*cv2.arcLength(cnt, True), True)\n",
    "    print(len(approx))\n",
    "    # detect shapes using cv2\n",
    "    if len(approx) == 3:\n",
    "        shape = 'Triangle'\n",
    "        M = cv2.moments(approx)\n",
    "        cx = int(M['m10']/M['m00'])\n",
    "        cy = int(M['m01']/M['m00'])\n",
    "\n",
    "    elif len(approx) == 4:\n",
    "        x, y, w, h = cv2.boundingRect(cnt)\n",
    "        if abs(w-h) < 5:\n",
    "            shape = 'Square'\n",
    "            M = cv2.moments(approx)\n",
    "            cx = int(M['m10'] / M['m00'])\n",
    "            cy = int(M['m01'] / M['m00'])\n",
    "        else:\n",
    "            shape = 'Rectangle'\n",
    "            M = cv2.moments(approx)\n",
    "            cx = int(M['m10'] / M['m00'])\n",
    "            cy = int(M['m01'] / M['m00'])\n",
    "\n",
    "    elif len(approx) == 10:\n",
    "        shape = 'Star'\n",
    "        M = cv2.moments(approx)\n",
    "        cx = int(M['m10'] / M['m00'])\n",
    "        cy = int(M['m01'] / M['m00'])\n",
    "\n",
    "    elif len(approx) == 8:\n",
    "        shape = 'Circle'\n",
    "        M = cv2.moments(approx)\n",
    "        cx = int(M['m10'] / M['m00'])\n",
    "        cy = int(M['m01'] / M['m00'])\n",
    "\n",
    "    cv2.putText(img, shape, (cx-30, cy),cv2.FONT_HERSHEY_SIMPLEX, 0.7, (0, 255, 0), 1)\n",
    "\n",
    "    cv2.drawContours(img, cnt, -1, (0, 255, 0), 2)\n",
    "    \n",
    "cv2.imshow('cnt', img)\n",
    "cv2.destroyAllWindows()"
   ]
  },
  {
   "cell_type": "code",
   "execution_count": null,
   "id": "6b046694",
   "metadata": {},
   "outputs": [],
   "source": []
  }
 ],
 "metadata": {
  "kernelspec": {
   "display_name": "Python 3 (ipykernel)",
   "language": "python",
   "name": "python3"
  },
  "language_info": {
   "codemirror_mode": {
    "name": "ipython",
    "version": 3
   },
   "file_extension": ".py",
   "mimetype": "text/x-python",
   "name": "python",
   "nbconvert_exporter": "python",
   "pygments_lexer": "ipython3",
   "version": "3.9.12"
  }
 },
 "nbformat": 4,
 "nbformat_minor": 5
}
